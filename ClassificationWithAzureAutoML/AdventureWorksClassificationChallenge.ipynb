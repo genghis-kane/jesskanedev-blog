{
 "cells": [
  {
   "cell_type": "markdown",
   "metadata": {},
   "source": [
    "#### Adventure Works Classification Challenge"
   ]
  },
  {
   "cell_type": "markdown",
   "metadata": {},
   "source": [
    "First step - confirm we can connect to the service that we have deployed:"
   ]
  },
  {
   "cell_type": "code",
   "execution_count": 9,
   "metadata": {},
   "outputs": [
    {
     "name": "stdout",
     "output_type": "stream",
     "text": [
      "Scoring URI: http://0f937284-a94e-4c1d-8f14-3fbd026b6211.westus.azurecontainer.io/score\n"
     ]
    }
   ],
   "source": [
    "from azureml.core import Workspace\n",
    "from azureml.core import Webservice\n",
    "from azureml.core import Model\n",
    "\n",
    "#Load workspace from default config\n",
    "ws = Workspace.from_config(path=\".file-path/ws_config.json\")\n",
    "\n",
    "#Load services available in this workspace\n",
    "services = Webservice.list(ws)\n",
    "classification_service = services[0]\n",
    "print(\"Scoring URI: \" + classification_service.scoring_uri)\n",
    "\n",
    "#Authentication is disabled by default, but run this if you have it enabled\n",
    "#print(classification_service.get_keys())"
   ]
  },
  {
   "cell_type": "markdown",
   "metadata": {},
   "source": [
    "Okay, that's a decent start! Now let's set up a simple JSON object that will represent a new entry to make a prediction on. We populate the set of features that we trained the model on, then send it up to the scoring endpoint. We should expect a Yes/No classification to be returned, for whether this person will buy a bike or not."
   ]
  },
  {
   "cell_type": "code",
   "execution_count": 10,
   "metadata": {},
   "outputs": [],
   "source": [
    "data = { \"data\":\n",
    "            [\n",
    "                [\n",
    "                    'Fremont',         #City\n",
    "                    'California',      #StateProvinceName\n",
    "                    'United States',   #CountryRegionName\n",
    "                    '1/05/1945',       #BirthDate\n",
    "                    'Bachelors',       #Education\n",
    "                    'Management',      #Occupation\n",
    "                    'F',               #Gender\n",
    "                    'S',               #MaritalStatus\n",
    "                    0,                 #HomeOwnerFlag\n",
    "                    2,                 #NumberCarsOwned\n",
    "                    0,                 #NumberChildrenAtHome\n",
    "                    5,                 #TotalChildren\n",
    "                    86931              #YearlyIncome\n",
    "                ]          \n",
    "            ]\n",
    "        }"
   ]
  },
  {
   "cell_type": "markdown",
   "metadata": {},
   "source": [
    "Let's see what we get:"
   ]
  },
  {
   "cell_type": "code",
   "execution_count": 4,
   "metadata": {},
   "outputs": [
    {
     "name": "stdout",
     "output_type": "stream",
     "text": [
      "['0']\n"
     ]
    }
   ],
   "source": [
    "import requests\n",
    "import json\n",
    "\n",
    "def get_response(request_data):\n",
    "    headers = {'Content-Type': 'application/json'}\n",
    "    response = requests.post(classification_service.scoring_uri, request_data, headers=headers)\n",
    "    return response\n",
    "\n",
    "response = get_response(json.dumps(data))\n",
    "response_data = json.loads(json.loads(response.text)) #double up json.loads as first result is still just a string\n",
    "print(response_data['result'])"
   ]
  },
  {
   "cell_type": "markdown",
   "metadata": {},
   "source": [
    "Well how cool is that?? We got a '0' response back, which is a prediction that this customer will not buy a bike."
   ]
  },
  {
   "cell_type": "markdown",
   "metadata": {},
   "source": [
    "How about if we want to make more than one prediction at a time? Luckily for us, we have been supplied with a CSV file containing a set of observations that the model has not seen before. The CSV has already been mangled so that the feature columns we ignored during training have been removed."
   ]
  },
  {
   "cell_type": "code",
   "execution_count": 19,
   "metadata": {},
   "outputs": [
    {
     "name": "stdout",
     "output_type": "stream",
     "text": [
      "Request preview:\n",
      "[['Fremont', 'California', 'United States', '1/05/1945', 'Bachelors ', 'Management', 'F', 'S', 0, 2, 0, 5, 86931], ['Haney', 'British Columbia', 'Canada', '10/04/1964', 'Bachelors ', 'Skilled Manual', 'M', 'M', 1, 2, 2, 4, 100125], ['Burbank', 'California', 'United States', '1/12/1934', 'Graduate Degree', 'Management', 'F', 'M', 1, 2, 0, 4, 103985], ['Burlingame', 'California', 'United States', '9/22/1958', 'Graduate Degree', 'Skilled Manual', 'M', 'M', 1, 0, 0, 4, 127161], ['Dunkerque', 'Nord', 'France', '3/19/1965', 'High School', 'Manual', 'F', 'M', 1, 1, 2, 2, 21876]]\n",
      "\n",
      "\n",
      "Predictions\n",
      "['0', '1', '0', '0', '0']\n"
     ]
    }
   ],
   "source": [
    "#Load rows from test set in CSV. Convert to lists, serialise as JSON, and send it off.\n",
    "import pandas as pd\n",
    "\n",
    "test_values = pd.read_csv('AW_Classification_Test.csv')\n",
    "test_data = test_values.values.tolist()[0:5] #Let's just predict the first five entries\n",
    "\n",
    "print(\"Request preview:\")\n",
    "print(test_data)\n",
    "\n",
    "data = { \"data\": test_data }\n",
    "request_data = json.dumps(data)\n",
    "response = get_response(request_data)\n",
    "response_data = json.loads(json.loads(response.text))\n",
    "\n",
    "print(\"\\n\")\n",
    "print(\"Predictions\")\n",
    "print(response_data['result'])\n",
    "\n",
    "#Save the result to an output CSV file (will be created if it does not already exist)\n",
    "#pd.DataFrame(response_data['result']).to_csv(\"AW_Classification_Results.csv\", index=None)"
   ]
  }
 ],
 "metadata": {
  "kernelspec": {
   "display_name": "Python 3.6 - AzureML",
   "language": "python",
   "name": "python3-azureml"
  },
  "language_info": {
   "codemirror_mode": {
    "name": "ipython",
    "version": 3
   },
   "file_extension": ".py",
   "mimetype": "text/x-python",
   "name": "python",
   "nbconvert_exporter": "python",
   "pygments_lexer": "ipython3",
   "version": "3.6.2"
  }
 },
 "nbformat": 4,
 "nbformat_minor": 2
}
